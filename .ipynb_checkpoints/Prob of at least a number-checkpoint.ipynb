{
 "cells": [
  {
   "cell_type": "code",
   "execution_count": 2,
   "id": "auburn-pension",
   "metadata": {},
   "outputs": [],
   "source": [
    "import pandas as pd\n",
    "import numpy as np\n",
    "import seaborn as sns\n",
    "import matplotlib.pyplot as plt\n",
    "sns.set_palette(sns.color_palette(\"tab10\", 8))"
   ]
  },
  {
   "cell_type": "code",
   "execution_count": 36,
   "id": "encouraging-thanksgiving",
   "metadata": {},
   "outputs": [],
   "source": []
  },
  {
   "cell_type": "code",
   "execution_count": 37,
   "id": "heard-theory",
   "metadata": {},
   "outputs": [],
   "source": []
  },
  {
   "cell_type": "code",
   "execution_count": 38,
   "id": "peaceful-payment",
   "metadata": {},
   "outputs": [],
   "source": []
  },
  {
   "cell_type": "code",
   "execution_count": 44,
   "id": "likely-evening",
   "metadata": {},
   "outputs": [],
   "source": []
  },
  {
   "cell_type": "code",
   "execution_count": 85,
   "id": "overall-taylor",
   "metadata": {},
   "outputs": [
    {
     "data": {
      "text/plain": [
       "10000000"
      ]
     },
     "execution_count": 85,
     "metadata": {},
     "output_type": "execute_result"
    }
   ],
   "source": [
    "len(throws)"
   ]
  },
  {
   "cell_type": "code",
   "execution_count": 88,
   "id": "oriented-experience",
   "metadata": {},
   "outputs": [],
   "source": [
    "def simulate_dice_throws(dice_n_faces=6, n_simultaneous_throws=6, n_simulations = 10000000):\n",
    "    simulated_throws = np.random.randint(low = 1, high = dice_n_faces+1, \n",
    "                                         size=(n_simulations,n_simultaneous_throws))\n",
    "    throws = pd.DataFrame(simulated_throws)\n",
    "\n",
    "    return throws\n",
    "\n",
    "def prob_at_least_1_higher_than(throws, dice_n_faces=6, n_simultaneous_throws=6):\n",
    "    n_simulations = len(throws)\n",
    "    my_probs ={}\n",
    "    final_results = pd.DataFrame()\n",
    "    aggregated_results = []\n",
    "    empty_col = np.full((n_simulations, 1), False)\n",
    "\n",
    "    for i_n_simultaneous_throws in np.arange(1,n_simultaneous_throws):\n",
    "        for i_threshold in np.arange(1,dice_n_faces+1):\n",
    "            temp_results = {}\n",
    "\n",
    "            tt = throws >= i_threshold\n",
    "            tt['results'] = empty_col\n",
    "\n",
    "            for i_throw_n in np.arange(0, i_n_simultaneous_throws): \n",
    "                tt['results'] = tt[i_throw_n] | tt['results']\n",
    "\n",
    "            my_prob = sum(tt['results'])/len(tt['results'])\n",
    "\n",
    "            temp_results['dice_n'] = i_n_simultaneous_throws\n",
    "            temp_results['i_threshold'] = i_threshold\n",
    "            temp_results['prob'] = my_prob\n",
    "\n",
    "            aggregated_results.append(temp_results)\n",
    "            \n",
    "    results_df = pd.DataFrame(aggregated_results)        \n",
    "    return results_df"
   ]
  },
  {
   "cell_type": "code",
   "execution_count": 79,
   "id": "dedicated-carolina",
   "metadata": {},
   "outputs": [
    {
     "data": {
      "text/plain": [
       "Text(0.5, 1.0, 'P of rolling at least 1 die >= i_threshold, depending on n dice rolled')"
      ]
     },
     "execution_count": 79,
     "metadata": {},
     "output_type": "execute_result"
    },
    {
     "data": {
      "image/png": "[encoded data removed]",
      "text/plain": [
       "<Figure size 432x288 with 1 Axes>"
      ]
     },
     "metadata": {
      "needs_background": "light"
     },
     "output_type": "display_data"
    }
   ],
   "source": [
    "dice_n_faces=4\n",
    "\n",
    "throws = simulate_dice_throws(dice_n_faces=dice_n_faces, \n",
    "                              n_simultaneous_throws=dice_n_faces)\n",
    "\n",
    "results_df = prob_at_least_1_higher_than(throws, \n",
    "                                         dice_n_faces=dice_n_faces, \n",
    "                                         n_simultaneous_throws=dice_n_faces)\n",
    "\n",
    "results_df = pd.DataFrame(aggregated_results)\n",
    "ax = sns.barplot(x=\"i_threshold\", y=\"prob\", hue=\"dice_n\", data=results_df)\n",
    "plt.grid()\n",
    "plt.legend(loc=(1.04,0))\n",
    "plt.title('P of rolling at least 1 die >= i_threshold, depending on n dice rolled')"
   ]
  },
  {
   "cell_type": "code",
   "execution_count": null,
   "id": "american-siemens",
   "metadata": {},
   "outputs": [],
   "source": []
  },
  {
   "cell_type": "code",
   "execution_count": 80,
   "id": "binary-minutes",
   "metadata": {},
   "outputs": [],
   "source": [
    "dice_n_faces = 8\n",
    "n_simultaneous_throws = 8\n",
    "n_simulations = 10000000\n",
    "simulated_throws = np.random.randint(low = 1, high = dice_n_faces+1, \n",
    "                                     size=(n_simulations,n_simultaneous_throws))\n",
    "throws = pd.DataFrame(simulated_throws)\n",
    "\n",
    "my_probs ={}\n",
    "final_results = pd.DataFrame()\n",
    "aggregated_results = []\n",
    "empty_col = np.full((n_simulations, 1), False)\n",
    "\n",
    "for i_n_simultaneous_throws in np.arange(1,n_simultaneous_throws):\n",
    "    for i_threshold in np.arange(1,dice_n_faces+1):\n",
    "        temp_results = {}\n",
    "\n",
    "        tt = throws >= i_threshold\n",
    "        tt['results'] = empty_col\n",
    "        \n",
    "        for i_throw_n in np.arange(0, i_n_simultaneous_throws): \n",
    "            tt['results'] = tt[i_throw_n] | tt['results']\n",
    "            \n",
    "        my_prob = sum(tt['results'])/len(tt['results'])\n",
    "        \n",
    "        temp_results['dice_n'] = i_n_simultaneous_throws\n",
    "        temp_results['i_threshold'] = i_threshold\n",
    "        temp_results['prob'] = my_prob\n",
    "        \n",
    "        aggregated_results.append(temp_results)"
   ]
  },
  {
   "cell_type": "code",
   "execution_count": 81,
   "id": "otherwise-surfing",
   "metadata": {},
   "outputs": [
    {
     "data": {
      "text/plain": [
       "Text(0.5, 1.0, 'P of rolling at least 1 die >= i_threshold, depending on n dice rolled (using d8)')"
      ]
     },
     "execution_count": 81,
     "metadata": {},
     "output_type": "execute_result"
    },
    {
     "data": {
      "image/png": "[encoded data removed]",
      "text/plain": [
       "<Figure size 432x288 with 1 Axes>"
      ]
     },
     "metadata": {
      "needs_background": "light"
     },
     "output_type": "display_data"
    }
   ],
   "source": [
    "results_df = pd.DataFrame(aggregated_results)\n",
    "ax = sns.barplot(x=\"i_threshold\", y=\"prob\", hue=\"dice_n\", data=results_df)\n",
    "plt.grid()\n",
    "plt.legend(loc=(1.04,0))\n",
    "plt.title('P of rolling at least 1 die >= i_threshold, depending on n dice rolled (using d'+str(dice_n_faces)+')')"
   ]
  },
  {
   "cell_type": "code",
   "execution_count": 82,
   "id": "ahead-command",
   "metadata": {},
   "outputs": [],
   "source": [
    "dice_n_faces = 4\n",
    "n_simultaneous_throws = 4\n",
    "n_simulations = 10000000\n",
    "simulated_throws = np.random.randint(low = 1, high = dice_n_faces+1, \n",
    "                                     size=(n_simulations,n_simultaneous_throws))\n",
    "throws = pd.DataFrame(simulated_throws)\n",
    "\n",
    "my_probs ={}\n",
    "final_results = pd.DataFrame()\n",
    "aggregated_results = []\n",
    "empty_col = np.full((n_simulations, 1), False)\n",
    "\n",
    "for i_n_simultaneous_throws in np.arange(1,n_simultaneous_throws):\n",
    "    for i_threshold in np.arange(1,dice_n_faces+1):\n",
    "        temp_results = {}\n",
    "\n",
    "        tt = throws >= i_threshold\n",
    "        tt['results'] = empty_col\n",
    "        \n",
    "        for i_throw_n in np.arange(0, i_n_simultaneous_throws): \n",
    "            tt['results'] = tt[i_throw_n] | tt['results']\n",
    "            \n",
    "        my_prob = sum(tt['results'])/len(tt['results'])\n",
    "        \n",
    "        temp_results['dice_n'] = i_n_simultaneous_throws\n",
    "        temp_results['i_threshold'] = i_threshold\n",
    "        temp_results['prob'] = my_prob\n",
    "        \n",
    "        aggregated_results.append(temp_results)"
   ]
  },
  {
   "cell_type": "code",
   "execution_count": 83,
   "id": "aware-screening",
   "metadata": {},
   "outputs": [
    {
     "data": {
      "text/plain": [
       "Text(0.5, 1.0, 'P of rolling at least 1 die >= i_threshold, depending on n dice rolled (using d4)')"
      ]
     },
     "execution_count": 83,
     "metadata": {},
     "output_type": "execute_result"
    },
    {
     "data": {
      "image/png": "[encoded data removed]",
      "text/plain": [
       "<Figure size 432x288 with 1 Axes>"
      ]
     },
     "metadata": {
      "needs_background": "light"
     },
     "output_type": "display_data"
    }
   ],
   "source": [
    "results_df = pd.DataFrame(aggregated_results)\n",
    "ax = sns.barplot(x=\"i_threshold\", y=\"prob\", hue=\"dice_n\", data=results_df)\n",
    "plt.grid()\n",
    "plt.legend(loc=(1.04,0))\n",
    "plt.title('P of rolling at least 1 die >= i_threshold, depending on n dice rolled (using d'+str(dice_n_faces)+')')"
   ]
  },
  {
   "cell_type": "code",
   "execution_count": 89,
   "id": "cathedral-hands",
   "metadata": {},
   "outputs": [
    {
     "data": {
      "text/plain": [
       "Text(0.5, 1.0, 'P of rolling at least 1 die >= i_threshold, depending on n dice rolled')"
      ]
     },
     "execution_count": 89,
     "metadata": {},
     "output_type": "execute_result"
    },
    {
     "data": {
      "image/png": "[encoded data removed]",
      "text/plain": [
       "<Figure size 432x288 with 1 Axes>"
      ]
     },
     "metadata": {
      "needs_background": "light"
     },
     "output_type": "display_data"
    }
   ],
   "source": [
    "dice_n_faces=4\n",
    "\n",
    "throws = simulate_dice_throws(dice_n_faces=dice_n_faces, \n",
    "                              n_simultaneous_throws=dice_n_faces)\n",
    "\n",
    "results_df = prob_at_least_1_higher_than(throws, \n",
    "                                         dice_n_faces=dice_n_faces, \n",
    "                                         n_simultaneous_throws=dice_n_faces)\n",
    "\n",
    "results_df = pd.DataFrame(aggregated_results)\n",
    "ax = sns.barplot(x=\"i_threshold\", y=\"prob\", hue=\"dice_n\", data=results_df)\n",
    "plt.grid()\n",
    "plt.legend(loc=(1.04,0))\n",
    "plt.title('P of rolling at least 1 die >= i_threshold, depending on n dice rolled (using d'+str(dice_n_faces)+')')"
   ]
  },
  {
   "cell_type": "code",
   "execution_count": null,
   "id": "smooth-spanish",
   "metadata": {},
   "outputs": [],
   "source": [
    "dice_n_faces=6\n",
    "\n",
    "throws = simulate_dice_throws(dice_n_faces=dice_n_faces, \n",
    "                              n_simultaneous_throws=dice_n_faces)\n",
    "\n",
    "results_df = prob_at_least_1_higher_than(throws, \n",
    "                                         dice_n_faces=dice_n_faces, \n",
    "                                         n_simultaneous_throws=dice_n_faces)\n",
    "\n",
    "results_df = pd.DataFrame(aggregated_results)\n",
    "ax = sns.barplot(x=\"i_threshold\", y=\"prob\", hue=\"dice_n\", data=results_df)\n",
    "plt.grid()\n",
    "plt.legend(loc=(1.04,0))\n",
    "plt.title('P of rolling at least 1 die >= i_threshold, depending on n dice rolled (using d'+str(dice_n_faces)+')')"
   ]
  },
  {
   "cell_type": "code",
   "execution_count": null,
   "id": "innocent-identification",
   "metadata": {},
   "outputs": [],
   "source": [
    "dice_n_faces=8\n",
    "\n",
    "throws = simulate_dice_throws(dice_n_faces=dice_n_faces, \n",
    "                              n_simultaneous_throws=dice_n_faces)\n",
    "\n",
    "results_df = prob_at_least_1_higher_than(throws, \n",
    "                                         dice_n_faces=dice_n_faces, \n",
    "                                         n_simultaneous_throws=dice_n_faces)\n",
    "\n",
    "results_df = pd.DataFrame(aggregated_results)\n",
    "ax = sns.barplot(x=\"i_threshold\", y=\"prob\", hue=\"dice_n\", data=results_df)\n",
    "plt.grid()\n",
    "plt.legend(loc=(1.04,0))\n",
    "plt.title('P of rolling at least 1 die >= i_threshold, depending on n dice rolled (using d'+str(dice_n_faces)+')')"
   ]
  },
  {
   "cell_type": "code",
   "execution_count": null,
   "id": "noted-vatican",
   "metadata": {},
   "outputs": [],
   "source": [
    "dice_n_faces=12\n",
    "\n",
    "throws = simulate_dice_throws(dice_n_faces=dice_n_faces, \n",
    "                              n_simultaneous_throws=dice_n_faces)\n",
    "\n",
    "results_df = prob_at_least_1_higher_than(throws, \n",
    "                                         dice_n_faces=dice_n_faces, \n",
    "                                         n_simultaneous_throws=dice_n_faces)\n",
    "\n",
    "results_df = pd.DataFrame(aggregated_results)\n",
    "ax = sns.barplot(x=\"i_threshold\", y=\"prob\", hue=\"dice_n\", data=results_df)\n",
    "plt.grid()\n",
    "plt.legend(loc=(1.04,0))\n",
    "plt.title('P of rolling at least 1 die >= i_threshold, depending on n dice rolled (using d'+str(dice_n_faces)+')')"
   ]
  }
 ],
 "metadata": {
  "kernelspec": {
   "display_name": "Python 3",
   "language": "python",
   "name": "python3"
  },
  "language_info": {
   "codemirror_mode": {
    "name": "ipython",
    "version": 3
   },
   "file_extension": ".py",
   "mimetype": "text/x-python",
   "name": "python",
   "nbconvert_exporter": "python",
   "pygments_lexer": "ipython3",
   "version": "3.6.12"
  },
  "toc": {
   "base_numbering": 1,
   "nav_menu": {},
   "number_sections": true,
   "sideBar": true,
   "skip_h1_title": false,
   "title_cell": "Table of Contents",
   "title_sidebar": "Contents",
   "toc_cell": false,
   "toc_position": {},
   "toc_section_display": true,
   "toc_window_display": false
  }
 },
 "nbformat": 4,
 "nbformat_minor": 5
}
